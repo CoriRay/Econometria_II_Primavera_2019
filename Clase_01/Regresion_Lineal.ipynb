{
 "cells": [
  {
   "cell_type": "markdown",
   "metadata": {},
   "source": [
    "# REGRESIÓN LINEAL"
   ]
  },
  {
   "cell_type": "markdown",
   "metadata": {},
   "source": [
    "* Para este análisis necesitamos instalar un par de librerías.\n",
    "* La librería pyreadstat permite leer archivos.dta en python y construir DataFrames a partir de los datos.\n",
    "* La librería statsmodels nos permitirá utilizar el modelo de regresión lineal"
   ]
  },
  {
   "cell_type": "code",
   "execution_count": 2,
   "metadata": {},
   "outputs": [],
   "source": [
    "#Corre esta celda solo una vez\n",
    "#!pip install pyreadstat\n",
    "#!pip install statsmodels"
   ]
  },
  {
   "cell_type": "code",
   "execution_count": 3,
   "metadata": {},
   "outputs": [],
   "source": [
    "import pyreadstat #librería para leer  formato.dta\n",
    "import pandas as pd #librería para manipulación de datos\n",
    "import matplotlib #librería para graficar\n",
    "from matplotlib import pyplot as plt #librería para graficar\n",
    "import statsmodels.api as sm #librería para análisis estadístico\n",
    "from IPython.display import Image # Para imagénes"
   ]
  },
  {
   "cell_type": "markdown",
   "metadata": {},
   "source": [
    "## Aplicación del Método de MCO: Retornos a Escala en la Industria Eléctrica\n",
    "\n",
    "Esta aplicación tiene su origen en el trabajo de Nerlove (1963). Este es un estudio clásico de los retornos a escala en una industria regulada. Nerlove ofreció una buena descripción de la industria eléctrica, dicha descripción es válida para el momento en que se escribió:\n",
    "* Los oferentes/generadores de electricidad son monopolios locales privados.\n",
    "* Las tarifas o precios minoristas de la eléctricidad son establecidos por un ente regulador.\n",
    "* Los precios de los factores productivos están dados y no son modificables por las empresas en el corto plazo, ya que existen diversos contratos de largo plazo (por ejemplo, los contratos laborales).\n",
    "\n",
    "Respecto de los datos, estos consisten en 145 empresas ubicadas en 44 estados en EUA en el año 1955, ya que son para los únicos estados para los que existe información. El estudio utilizó información de aproximadamente el 80% de la electricidad producida.\n",
    "\n",
    "Visto por la forma de producción, Nerlove identicó que existían 3 métodos de producción de electricidad: \n",
    "* Motores de conbustión interna.\n",
    "* Hidroeléctricas.\n",
    "* Termoeléctricas.\n",
    "\n",
    "Al respecto, Nerlove muestra que en los 50's cerca del 70% de la electricidad era producida por las empresas termoeléctricas. El combustible pincipal empleado en dichas termoeléctricas era carbón (66.4%), seguido de petróleo (14.5%) y gasolina (19.1%).\n"
   ]
  },
  {
   "cell_type": "markdown",
   "metadata": {},
   "source": [
    "## Variables: \n",
    "Las variables consideradas son: costos totales, precios de los factores (salarios, precios de combustibles, renta o precio del capital), y el producto. Aunque las empresas son dueñas del capital, en el modelo se supone que dichas empresas se comportan como si estas pagaran una renta de capital, por lo que se imputa un precio por el costo de capital.\n",
    "\n",
    "No obstante, para mayores detalles refierase al documento original de Nerlove, donde se describe con mayor detalle la forma en que fue construída la base de datos. Los datos de producción, combustibles y costos laborales fueron obtenidos de la Federal Power Commision (1956)."
   ]
  },
  {
   "cell_type": "markdown",
   "metadata": {},
   "source": [
    "## Motivación económica:\n",
    "La motivación para el analísis es que mediante un enfoque econométrico se puede construir una curva de costo promedio (AC, por sus siglas en inglés) para cada empresa, misma que es diferente de la promedio de la industria. Esto es, la empresas enfrentan diferentes precios por los factores productivos y por lo tanto diferentes costos totales, medios y marginales.\n",
    "\n",
    "Para enfocarnos en la conexión entre la eficiencia de producción y el producto, asumimos que todas las empresas enfrentan mas o menos los mismos precios de los factores, y la única razón por la que las curvas de costo medio (AC) y de costo marginal (MC) difieren entre las empresas es la diferencia en la eficiencia productiva. Las curvas de AC y de MC tienen pendiente positiva para reflejar retornos a escala decrecientes. \n",
    "\n",
    "Si vemos la siguiente Figura, las curvas de AC y MC de la empresa A estan a la izquierda de las de la empresa B porque la empresa A es menos eficiente que B. Esto es derivado de que la industria es competida, ambas empresas enfrentan el mismo precio $p$. Dado que la cantidad está determinada por la intersección de MC y el precio de mercado, las combinaciones de cantidad / producto y el AC para las dos empresas e ilustra en la Figura."
   ]
  },
  {
   "cell_type": "markdown",
   "metadata": {},
   "source": [
    "<img src=\"Hayashi_p62.PNG\"> "
   ]
  },
  {
   "cell_type": "markdown",
   "metadata": {},
   "source": [
    "De esta forma, la curva que resulta de conectar los puntos A y B puede tener una pendiente negativa, dando la impresión de un escenario de rendimientos crecientes a escala en la industria, ya que la agregación de todos los puntos de las empresas individuales conformaran la curva de costos promedio de la industria. \n",
    "\n",
    "La parametrización de la función de costos parte de una función de producción del tipo Cobb - Douglas:\n",
    "$$Q_i = A_i x^{\\alpha_1}_{i1} x^{\\alpha_2}_{i2} x^{\\alpha_3}_{i3}$$\n",
    "\n",
    "Donde $Q_i$ es la producción de la empresa $i$, $x_{i1}$ es el insumo de trabajo para la empresa $i$, $x_{i2}$ es el insumo capital para la empresa $i$, y $x_{i3}$ es el insumo de combustible para la empresa $i$. El término $A_i$ captura las direncias no observables en la eficiencia de producción (este término también es conocido como el de heterogenidad de las empresas). \n",
    "\n",
    "Asimismo, la suma de los paramétros: $\\alpha_1 + \\alpha_2 + \\alpha_3 = r$ indica el grado de retornos a escala. Dado esto último, asumiremos que el grado de retornos a escala es constante (esto no significa que existen retornos a escala constantes, ya que para ello se debería cumplir que $r = 1$). Adicionalmente, en el modelo se supone que dada la naturaleza de propiedad de las empresas generadoras, el problema que cada una ellas enfrenta es uno de minimización de costos (véase Nerlove (1963) para una discusión sobre las restricciones relacionadas con este supuesto).\n"
   ]
  },
  {
   "cell_type": "markdown",
   "metadata": {},
   "source": [
    "En este sentido, el problema que cada empresa enfrenta es el de minimizar sus costos de producción, sujeto a la cantidad producida, es decir:\n",
    "$$\\min_{x_{i1}, \\ldots, x_{iK}} \\sum_{k = 1}^{K} p_{ik}x_{ik}$$\n",
    "s.a.\n",
    "$$Q_i = f(x_{i1}, \\ldots, x_{iK}, A_i)$$\n",
    "\n",
    "Resolviendo el problema anterior:\n",
    "$$ln(C_i) = \\mu_i +  \\frac{1}{r} ln(Q_i) + \\frac{\\alpha_1}{r} ln(p_{i1}) + \\frac{\\alpha_2}{r} ln(p_{i2}) + \\frac{\\alpha_3}{r} ln(p_{i3})$$\n",
    "\n",
    "Donde $\\mu_i = ln \\left[ r \\left( A_i \\alpha^{\\alpha_1}_{1} \\alpha^{\\alpha_2}_{2} \\alpha^{\\alpha_3}_{3} \\right)^{-1/r} \\right]$. \n",
    "\n",
    "La ecuación es conocida como una ecuación log-lineal, de la cual se puede interpretar a sus pendientes como elasticidades. Es decir, el cambio porcentual en el costo total cuando se incremnta en 1% el precio de cualquiera de los factores. \n",
    "\n",
    "Si definimos a $\\mu = \\mathbb{E} [\\mu_i]$ y a $\\varepsilon_i = \\mu_i - \\mu$, de tal forma que $\\mathbb{E} [\\varepsilon_i] = 0$. De esta forma $\\varepsilon_i$ se puede interpretar como la eficiencia productiva de las empresas. Considerando lo anterior plateamos la expresión:\n",
    "$$ln(C_i) = \\beta_1 +  \\beta_2 ln(Q_i) + \\beta_3 ln(p_{i1}) + \\beta_4 ln(p_{i2}) + \\beta_5 ln(p_{i3}) + \\varepsilon_i$$\n",
    "\n",
    "Donde:\n",
    "$$\\beta_1 = \\mu$$\n",
    "\n",
    "$$\\beta_2 = \\frac{1}{r}$$\n",
    "\n",
    "$$\\beta_3 = \\frac{\\alpha_1}{r}$$\n",
    "\n",
    "$$\\beta_4 = \\frac{\\alpha_2}{r}$$\n",
    "\n",
    "$$\\beta_5 = \\frac{\\alpha_3}{r}$$\n",
    "\n",
    "De esta forma podemos decir que $y_i = ln(C_i)$ y que:\n",
    "$$\\mathbf{X}'_i = [ln(Q_i), ln(p_{i1}), ln(p_{i2}), ln(p_{i3})]$$\n",
    "\n",
    "Esta función tmabién es conocida como una función trans-log o trans-logarítmica, de la cual podemos recuperar una forma estimada de la función de costos original:"
   ]
  },
  {
   "cell_type": "markdown",
   "metadata": {},
   "source": [
    "<img src=\"Nerlove.PNG\"> "
   ]
  },
  {
   "cell_type": "markdown",
   "metadata": {},
   "source": [
    "# Plan de la clase:\n",
    "* ### Regresión lineal\n",
    "* ### Media condicional descrita por:\n",
    "$$ln(C_i) = \\beta_1 +  \\beta_2 ln(Output_i) + \\beta_3 ln(plabor_{i1}) + \\beta_4 ln(pfuel_{i2}) + \\beta_5 ln(pkap_{i3}) + \\varepsilon_i$$"
   ]
  },
  {
   "cell_type": "markdown",
   "metadata": {},
   "source": [
    "### Metadatos: La base de datos contiene 145 observaciones  de las siguientes variables:\n",
    "**Datos de Demanda de Gasolina:**\n",
    "* **totcost:** costs in 1970, MM USD\n",
    "\n",
    "* **output:** output billion KwH\n",
    "* **plabor:** price of labor\n",
    "* **pfuel:** price of fuel\n",
    "* **pkap:** price of capital"
   ]
  },
  {
   "cell_type": "code",
   "execution_count": 4,
   "metadata": {},
   "outputs": [],
   "source": [
    "dtafile = 'nerlove63.dta'\n",
    "dataframe, meta = pyreadstat.read_dta(dtafile)"
   ]
  },
  {
   "cell_type": "code",
   "execution_count": 5,
   "metadata": {},
   "outputs": [
    {
     "data": {
      "text/plain": [
       "Index(['totcost', 'output', 'plabor', 'pfuel', 'pkap'], dtype='object')"
      ]
     },
     "execution_count": 5,
     "metadata": {},
     "output_type": "execute_result"
    }
   ],
   "source": [
    "dataframe.columns"
   ]
  },
  {
   "cell_type": "code",
   "execution_count": 6,
   "metadata": {},
   "outputs": [
    {
     "data": {
      "text/html": [
       "<div>\n",
       "<style scoped>\n",
       "    .dataframe tbody tr th:only-of-type {\n",
       "        vertical-align: middle;\n",
       "    }\n",
       "\n",
       "    .dataframe tbody tr th {\n",
       "        vertical-align: top;\n",
       "    }\n",
       "\n",
       "    .dataframe thead th {\n",
       "        text-align: right;\n",
       "    }\n",
       "</style>\n",
       "<table border=\"1\" class=\"dataframe\">\n",
       "  <thead>\n",
       "    <tr style=\"text-align: right;\">\n",
       "      <th></th>\n",
       "      <th>totcost</th>\n",
       "      <th>output</th>\n",
       "      <th>plabor</th>\n",
       "      <th>pfuel</th>\n",
       "      <th>pkap</th>\n",
       "    </tr>\n",
       "  </thead>\n",
       "  <tbody>\n",
       "    <tr>\n",
       "      <th>0</th>\n",
       "      <td>0.082</td>\n",
       "      <td>2.0</td>\n",
       "      <td>2.09</td>\n",
       "      <td>17.900000</td>\n",
       "      <td>183.0</td>\n",
       "    </tr>\n",
       "    <tr>\n",
       "      <th>1</th>\n",
       "      <td>0.661</td>\n",
       "      <td>3.0</td>\n",
       "      <td>2.05</td>\n",
       "      <td>35.099998</td>\n",
       "      <td>174.0</td>\n",
       "    </tr>\n",
       "    <tr>\n",
       "      <th>2</th>\n",
       "      <td>0.990</td>\n",
       "      <td>4.0</td>\n",
       "      <td>2.05</td>\n",
       "      <td>35.099998</td>\n",
       "      <td>171.0</td>\n",
       "    </tr>\n",
       "    <tr>\n",
       "      <th>3</th>\n",
       "      <td>0.315</td>\n",
       "      <td>4.0</td>\n",
       "      <td>1.83</td>\n",
       "      <td>32.200001</td>\n",
       "      <td>166.0</td>\n",
       "    </tr>\n",
       "    <tr>\n",
       "      <th>4</th>\n",
       "      <td>0.197</td>\n",
       "      <td>5.0</td>\n",
       "      <td>2.12</td>\n",
       "      <td>28.600000</td>\n",
       "      <td>233.0</td>\n",
       "    </tr>\n",
       "  </tbody>\n",
       "</table>\n",
       "</div>"
      ],
      "text/plain": [
       "   totcost  output  plabor      pfuel   pkap\n",
       "0    0.082     2.0    2.09  17.900000  183.0\n",
       "1    0.661     3.0    2.05  35.099998  174.0\n",
       "2    0.990     4.0    2.05  35.099998  171.0\n",
       "3    0.315     4.0    1.83  32.200001  166.0\n",
       "4    0.197     5.0    2.12  28.600000  233.0"
      ]
     },
     "execution_count": 6,
     "metadata": {},
     "output_type": "execute_result"
    }
   ],
   "source": [
    "dataframe.head(5)"
   ]
  },
  {
   "cell_type": "markdown",
   "metadata": {},
   "source": [
    "### **Estadisticas y tablas resumen**"
   ]
  },
  {
   "cell_type": "code",
   "execution_count": 7,
   "metadata": {},
   "outputs": [
    {
     "data": {
      "text/html": [
       "<div>\n",
       "<style scoped>\n",
       "    .dataframe tbody tr th:only-of-type {\n",
       "        vertical-align: middle;\n",
       "    }\n",
       "\n",
       "    .dataframe tbody tr th {\n",
       "        vertical-align: top;\n",
       "    }\n",
       "\n",
       "    .dataframe thead th {\n",
       "        text-align: right;\n",
       "    }\n",
       "</style>\n",
       "<table border=\"1\" class=\"dataframe\">\n",
       "  <thead>\n",
       "    <tr style=\"text-align: right;\">\n",
       "      <th></th>\n",
       "      <th>totcost</th>\n",
       "      <th>output</th>\n",
       "      <th>plabor</th>\n",
       "      <th>pfuel</th>\n",
       "      <th>pkap</th>\n",
       "    </tr>\n",
       "  </thead>\n",
       "  <tbody>\n",
       "    <tr>\n",
       "      <th>count</th>\n",
       "      <td>145.00</td>\n",
       "      <td>145.00</td>\n",
       "      <td>145.00</td>\n",
       "      <td>145.00</td>\n",
       "      <td>145.00</td>\n",
       "    </tr>\n",
       "    <tr>\n",
       "      <th>mean</th>\n",
       "      <td>12.98</td>\n",
       "      <td>2133.08</td>\n",
       "      <td>1.97</td>\n",
       "      <td>26.18</td>\n",
       "      <td>174.50</td>\n",
       "    </tr>\n",
       "    <tr>\n",
       "      <th>std</th>\n",
       "      <td>19.79</td>\n",
       "      <td>2931.94</td>\n",
       "      <td>0.24</td>\n",
       "      <td>7.88</td>\n",
       "      <td>18.21</td>\n",
       "    </tr>\n",
       "    <tr>\n",
       "      <th>min</th>\n",
       "      <td>0.08</td>\n",
       "      <td>2.00</td>\n",
       "      <td>1.45</td>\n",
       "      <td>10.30</td>\n",
       "      <td>138.00</td>\n",
       "    </tr>\n",
       "    <tr>\n",
       "      <th>25%</th>\n",
       "      <td>2.38</td>\n",
       "      <td>279.00</td>\n",
       "      <td>1.76</td>\n",
       "      <td>21.30</td>\n",
       "      <td>162.00</td>\n",
       "    </tr>\n",
       "    <tr>\n",
       "      <th>50%</th>\n",
       "      <td>6.75</td>\n",
       "      <td>1109.00</td>\n",
       "      <td>2.04</td>\n",
       "      <td>26.90</td>\n",
       "      <td>170.00</td>\n",
       "    </tr>\n",
       "    <tr>\n",
       "      <th>75%</th>\n",
       "      <td>14.13</td>\n",
       "      <td>2507.00</td>\n",
       "      <td>2.19</td>\n",
       "      <td>32.20</td>\n",
       "      <td>183.00</td>\n",
       "    </tr>\n",
       "    <tr>\n",
       "      <th>max</th>\n",
       "      <td>139.42</td>\n",
       "      <td>16719.00</td>\n",
       "      <td>2.32</td>\n",
       "      <td>42.80</td>\n",
       "      <td>233.00</td>\n",
       "    </tr>\n",
       "  </tbody>\n",
       "</table>\n",
       "</div>"
      ],
      "text/plain": [
       "       totcost    output  plabor   pfuel    pkap\n",
       "count   145.00    145.00  145.00  145.00  145.00\n",
       "mean     12.98   2133.08    1.97   26.18  174.50\n",
       "std      19.79   2931.94    0.24    7.88   18.21\n",
       "min       0.08      2.00    1.45   10.30  138.00\n",
       "25%       2.38    279.00    1.76   21.30  162.00\n",
       "50%       6.75   1109.00    2.04   26.90  170.00\n",
       "75%      14.13   2507.00    2.19   32.20  183.00\n",
       "max     139.42  16719.00    2.32   42.80  233.00"
      ]
     },
     "execution_count": 7,
     "metadata": {},
     "output_type": "execute_result"
    }
   ],
   "source": [
    "dataframe.describe().round(2)"
   ]
  },
  {
   "cell_type": "code",
   "execution_count": 8,
   "metadata": {},
   "outputs": [
    {
     "data": {
      "text/plain": [
       "totcost    float64\n",
       "output     float64\n",
       "plabor     float64\n",
       "pfuel      float64\n",
       "pkap       float64\n",
       "dtype: object"
      ]
     },
     "execution_count": 8,
     "metadata": {},
     "output_type": "execute_result"
    }
   ],
   "source": [
    "dataframe.dtypes"
   ]
  },
  {
   "cell_type": "code",
   "execution_count": 9,
   "metadata": {},
   "outputs": [
    {
     "data": {
      "text/plain": [
       "False"
      ]
     },
     "execution_count": 9,
     "metadata": {},
     "output_type": "execute_result"
    }
   ],
   "source": [
    "dataframe.isnull().values.any()"
   ]
  },
  {
   "cell_type": "code",
   "execution_count": 10,
   "metadata": {},
   "outputs": [
    {
     "name": "stdout",
     "output_type": "stream",
     "text": [
      "['totcost']\n",
      "0.501000      2\n",
      "8.082000      1\n",
      "2.599000      1\n",
      "8.858000      1\n",
      "24.021000     1\n",
      "             ..\n",
      "0.903000      1\n",
      "0.705000      1\n",
      "119.939003    1\n",
      "18.350000     1\n",
      "10.866000     1\n",
      "Name: totcost, Length: 144, dtype: int64\n",
      "['output']\n",
      "290.0     2\n",
      "353.0     2\n",
      "13.0      2\n",
      "25.0      2\n",
      "4.0       2\n",
      "         ..\n",
      "1098.0    1\n",
      "1118.0    1\n",
      "1122.0    1\n",
      "1166.0    1\n",
      "2.0       1\n",
      "Name: output, Length: 140, dtype: int64\n",
      "['plabor']\n",
      "1.76    11\n",
      "1.92    10\n",
      "2.05    10\n",
      "2.11     8\n",
      "2.19     8\n",
      "2.09     7\n",
      "2.31     7\n",
      "2.04     6\n",
      "2.30     6\n",
      "1.70     6\n",
      "2.20     5\n",
      "2.24     4\n",
      "1.80     4\n",
      "1.68     4\n",
      "2.32     4\n",
      "2.12     4\n",
      "2.13     3\n",
      "1.98     3\n",
      "2.00     3\n",
      "2.29     3\n",
      "1.75     3\n",
      "1.77     3\n",
      "1.52     2\n",
      "1.55     2\n",
      "1.61     2\n",
      "1.45     2\n",
      "1.81     2\n",
      "1.66     2\n",
      "1.85     2\n",
      "1.54     2\n",
      "1.69     2\n",
      "1.82     1\n",
      "1.79     1\n",
      "1.53     1\n",
      "1.72     1\n",
      "1.83     1\n",
      "Name: plabor, dtype: int64\n",
      "['pfuel']\n",
      "10.300000    11\n",
      "35.099998    10\n",
      "29.100000    10\n",
      "24.400000     8\n",
      "22.500000     8\n",
      "33.500000     7\n",
      "23.600000     6\n",
      "26.900000     6\n",
      "20.700001     6\n",
      "36.200001     5\n",
      "30.000000     5\n",
      "20.200001     4\n",
      "28.600000     4\n",
      "26.500000     4\n",
      "31.900000     4\n",
      "21.299999     3\n",
      "35.500000     3\n",
      "34.299999     3\n",
      "42.799999     3\n",
      "28.500000     3\n",
      "17.900000     3\n",
      "10.700000     2\n",
      "27.500000     2\n",
      "12.900000     2\n",
      "28.799999     2\n",
      "17.799999     2\n",
      "28.200001     2\n",
      "17.600000     2\n",
      "26.200001     2\n",
      "24.600000     2\n",
      "33.400002     2\n",
      "22.600000     2\n",
      "39.700001     2\n",
      "18.100000     1\n",
      "18.500000     1\n",
      "38.900002     1\n",
      "15.000000     1\n",
      "32.200001     1\n",
      "Name: pfuel, dtype: int64\n",
      "['pkap']\n",
      "183.0    8\n",
      "170.0    8\n",
      "164.0    8\n",
      "161.0    8\n",
      "158.0    7\n",
      "176.0    7\n",
      "157.0    7\n",
      "162.0    6\n",
      "167.0    6\n",
      "177.0    5\n",
      "163.0    4\n",
      "174.0    4\n",
      "168.0    4\n",
      "178.0    4\n",
      "195.0    3\n",
      "196.0    3\n",
      "203.0    3\n",
      "166.0    3\n",
      "175.0    2\n",
      "188.0    2\n",
      "155.0    2\n",
      "159.0    2\n",
      "156.0    2\n",
      "217.0    2\n",
      "190.0    2\n",
      "172.0    2\n",
      "225.0    2\n",
      "160.0    1\n",
      "233.0    1\n",
      "206.0    1\n",
      "150.0    1\n",
      "171.0    1\n",
      "151.0    1\n",
      "165.0    1\n",
      "213.0    1\n",
      "182.0    1\n",
      "199.0    1\n",
      "210.0    1\n",
      "197.0    1\n",
      "202.0    1\n",
      "189.0    1\n",
      "192.0    1\n",
      "180.0    1\n",
      "138.0    1\n",
      "227.0    1\n",
      "186.0    1\n",
      "169.0    1\n",
      "148.0    1\n",
      "187.0    1\n",
      "152.0    1\n",
      "143.0    1\n",
      "144.0    1\n",
      "198.0    1\n",
      "185.0    1\n",
      "207.0    1\n",
      "212.0    1\n",
      "Name: pkap, dtype: int64\n"
     ]
    }
   ],
   "source": [
    "for i in dataframe.columns:\n",
    "        print([i])\n",
    "        print(dataframe[i].value_counts())"
   ]
  },
  {
   "cell_type": "markdown",
   "metadata": {},
   "source": [
    "### **Generando nuevas variables**"
   ]
  },
  {
   "cell_type": "code",
   "execution_count": 11,
   "metadata": {},
   "outputs": [],
   "source": [
    "import numpy as np\n",
    "#Creamos la variable Ltotcost aplicando logaritmo a totcost y guardamos el resultado en la nueva columna Ltotcost\n",
    "dataframe['Ltotcost'] = np.log2(dataframe['totcost'])\n",
    "dataframe['Loutput'] = np.log2(dataframe['output'])\n",
    "dataframe['Lplabor'] = np.log2(dataframe['plabor'])\n",
    "dataframe['Lpfuel'] = np.log2(dataframe['pfuel'])\n",
    "dataframe['Lpkap'] = np.log2(dataframe['pkap'])\n",
    "dataframe['avgcost'] = dataframe[\"totcost\"]/dataframe[\"output\"]"
   ]
  },
  {
   "cell_type": "code",
   "execution_count": 12,
   "metadata": {},
   "outputs": [],
   "source": [
    "dataframe['One'] = 1"
   ]
  },
  {
   "cell_type": "code",
   "execution_count": 13,
   "metadata": {},
   "outputs": [
    {
     "data": {
      "text/html": [
       "<div>\n",
       "<style scoped>\n",
       "    .dataframe tbody tr th:only-of-type {\n",
       "        vertical-align: middle;\n",
       "    }\n",
       "\n",
       "    .dataframe tbody tr th {\n",
       "        vertical-align: top;\n",
       "    }\n",
       "\n",
       "    .dataframe thead th {\n",
       "        text-align: right;\n",
       "    }\n",
       "</style>\n",
       "<table border=\"1\" class=\"dataframe\">\n",
       "  <thead>\n",
       "    <tr style=\"text-align: right;\">\n",
       "      <th></th>\n",
       "      <th>totcost</th>\n",
       "      <th>output</th>\n",
       "      <th>plabor</th>\n",
       "      <th>pfuel</th>\n",
       "      <th>pkap</th>\n",
       "      <th>Ltotcost</th>\n",
       "      <th>Loutput</th>\n",
       "      <th>Lplabor</th>\n",
       "      <th>Lpfuel</th>\n",
       "      <th>Lpkap</th>\n",
       "      <th>avgcost</th>\n",
       "      <th>One</th>\n",
       "    </tr>\n",
       "  </thead>\n",
       "  <tbody>\n",
       "    <tr>\n",
       "      <th>0</th>\n",
       "      <td>0.082</td>\n",
       "      <td>2.0</td>\n",
       "      <td>2.09</td>\n",
       "      <td>17.900000</td>\n",
       "      <td>183.0</td>\n",
       "      <td>-3.608232</td>\n",
       "      <td>1.000000</td>\n",
       "      <td>1.063503</td>\n",
       "      <td>4.161888</td>\n",
       "      <td>7.515700</td>\n",
       "      <td>0.041000</td>\n",
       "      <td>1</td>\n",
       "    </tr>\n",
       "    <tr>\n",
       "      <th>1</th>\n",
       "      <td>0.661</td>\n",
       "      <td>3.0</td>\n",
       "      <td>2.05</td>\n",
       "      <td>35.099998</td>\n",
       "      <td>174.0</td>\n",
       "      <td>-0.597278</td>\n",
       "      <td>1.584963</td>\n",
       "      <td>1.035624</td>\n",
       "      <td>5.133399</td>\n",
       "      <td>7.442943</td>\n",
       "      <td>0.220333</td>\n",
       "      <td>1</td>\n",
       "    </tr>\n",
       "    <tr>\n",
       "      <th>2</th>\n",
       "      <td>0.990</td>\n",
       "      <td>4.0</td>\n",
       "      <td>2.05</td>\n",
       "      <td>35.099998</td>\n",
       "      <td>171.0</td>\n",
       "      <td>-0.014500</td>\n",
       "      <td>2.000000</td>\n",
       "      <td>1.035624</td>\n",
       "      <td>5.133399</td>\n",
       "      <td>7.417853</td>\n",
       "      <td>0.247500</td>\n",
       "      <td>1</td>\n",
       "    </tr>\n",
       "    <tr>\n",
       "      <th>3</th>\n",
       "      <td>0.315</td>\n",
       "      <td>4.0</td>\n",
       "      <td>1.83</td>\n",
       "      <td>32.200001</td>\n",
       "      <td>166.0</td>\n",
       "      <td>-1.666576</td>\n",
       "      <td>2.000000</td>\n",
       "      <td>0.871844</td>\n",
       "      <td>5.008989</td>\n",
       "      <td>7.375039</td>\n",
       "      <td>0.078750</td>\n",
       "      <td>1</td>\n",
       "    </tr>\n",
       "    <tr>\n",
       "      <th>4</th>\n",
       "      <td>0.197</td>\n",
       "      <td>5.0</td>\n",
       "      <td>2.12</td>\n",
       "      <td>28.600000</td>\n",
       "      <td>233.0</td>\n",
       "      <td>-2.343732</td>\n",
       "      <td>2.321928</td>\n",
       "      <td>1.084064</td>\n",
       "      <td>4.837943</td>\n",
       "      <td>7.864186</td>\n",
       "      <td>0.039400</td>\n",
       "      <td>1</td>\n",
       "    </tr>\n",
       "  </tbody>\n",
       "</table>\n",
       "</div>"
      ],
      "text/plain": [
       "   totcost  output  plabor      pfuel   pkap  Ltotcost   Loutput   Lplabor  \\\n",
       "0    0.082     2.0    2.09  17.900000  183.0 -3.608232  1.000000  1.063503   \n",
       "1    0.661     3.0    2.05  35.099998  174.0 -0.597278  1.584963  1.035624   \n",
       "2    0.990     4.0    2.05  35.099998  171.0 -0.014500  2.000000  1.035624   \n",
       "3    0.315     4.0    1.83  32.200001  166.0 -1.666576  2.000000  0.871844   \n",
       "4    0.197     5.0    2.12  28.600000  233.0 -2.343732  2.321928  1.084064   \n",
       "\n",
       "     Lpfuel     Lpkap   avgcost  One  \n",
       "0  4.161888  7.515700  0.041000    1  \n",
       "1  5.133399  7.442943  0.220333    1  \n",
       "2  5.133399  7.417853  0.247500    1  \n",
       "3  5.008989  7.375039  0.078750    1  \n",
       "4  4.837943  7.864186  0.039400    1  "
      ]
     },
     "execution_count": 13,
     "metadata": {},
     "output_type": "execute_result"
    }
   ],
   "source": [
    "dataframe.head()"
   ]
  },
  {
   "cell_type": "markdown",
   "metadata": {},
   "source": [
    "### **Estadisticas Descriptivas**"
   ]
  },
  {
   "cell_type": "code",
   "execution_count": 14,
   "metadata": {},
   "outputs": [
    {
     "data": {
      "image/png": "[encoded data removed]",
      "text/plain": [
       "<Figure size 432x288 with 1 Axes>"
      ]
     },
     "metadata": {},
     "output_type": "display_data"
    }
   ],
   "source": [
    "plt.style.use('ggplot')\n",
    "dataframe ['totcost'].hist(color='green')\n",
    "plt.ylabel(\"Freq\")\n",
    "plt.xlabel(\"totcost MM USD\")\n",
    "plt.title(\"Histograma totcost MM USD\")\n",
    "plt.show()"
   ]
  },
  {
   "cell_type": "code",
   "execution_count": 15,
   "metadata": {},
   "outputs": [
    {
     "data": {
      "image/png": "[encoded data removed]",
      "text/plain": [
       "<Figure size 432x288 with 1 Axes>"
      ]
     },
     "metadata": {},
     "output_type": "display_data"
    }
   ],
   "source": [
    "dataframe ['totcost'].plot.kde()\n",
    "plt.title(\"Densidad totcost MM USD\")\n",
    "plt.show()"
   ]
  },
  {
   "cell_type": "markdown",
   "metadata": {},
   "source": [
    "### ** Regresion:**"
   ]
  },
  {
   "cell_type": "code",
   "execution_count": 16,
   "metadata": {},
   "outputs": [
    {
     "data": {
      "image/png": "[encoded data removed]",
      "text/plain": [
       "<Figure size 432x288 with 1 Axes>"
      ]
     },
     "metadata": {},
     "output_type": "display_data"
    }
   ],
   "source": [
    "plt.scatter(dataframe.output, dataframe.avgcost, s=150, color =\"red\")\n",
    "plt.title(\"Gráfico de dispersión Output vs Avg cost\")\n",
    "plt.show()"
   ]
  },
  {
   "cell_type": "code",
   "execution_count": 17,
   "metadata": {},
   "outputs": [
    {
     "name": "stdout",
     "output_type": "stream",
     "text": [
      "                            OLS Regression Results                            \n",
      "==============================================================================\n",
      "Dep. Variable:               Ltotcost   R-squared:                       0.926\n",
      "Model:                            OLS   Adj. R-squared:                  0.924\n",
      "Method:                 Least Squares   F-statistic:                     437.7\n",
      "Date:                Mon, 30 Mar 2020   Prob (F-statistic):           4.82e-78\n",
      "Time:                        08:51:47   Log-Likelihood:                -120.69\n",
      "No. Observations:                 145   AIC:                             251.4\n",
      "Df Residuals:                     140   BIC:                             266.3\n",
      "Df Model:                           4                                         \n",
      "Covariance Type:            nonrobust                                         \n",
      "==============================================================================\n",
      "                 coef    std err          t      P>|t|      [0.025      0.975]\n",
      "------------------------------------------------------------------------------\n",
      "One           -5.0877      2.560     -1.987      0.049     -10.149      -0.027\n",
      "Loutput        0.7204      0.017     41.244      0.000       0.686       0.755\n",
      "Lplabor        0.4363      0.291      1.499      0.136      -0.139       1.012\n",
      "Lpfuel         0.4265      0.100      4.249      0.000       0.228       0.625\n",
      "Lpkap         -0.2199      0.339     -0.648      0.518      -0.891       0.451\n",
      "==============================================================================\n",
      "Omnibus:                       51.403   Durbin-Watson:                   1.013\n",
      "Prob(Omnibus):                  0.000   Jarque-Bera (JB):              175.700\n",
      "Skew:                           1.303   Prob(JB):                     7.03e-39\n",
      "Kurtosis:                       7.721   Cond. No.                         721.\n",
      "==============================================================================\n",
      "\n",
      "Warnings:\n",
      "[1] Standard Errors assume that the covariance matrix of the errors is correctly specified.\n"
     ]
    },
    {
     "name": "stderr",
     "output_type": "stream",
     "text": [
      "/Applications/anaconda/envs/PythonData/lib/python3.7/site-packages/numpy/core/fromnumeric.py:2495: FutureWarning: Method .ptp is deprecated and will be removed in a future version. Use numpy.ptp instead.\n",
      "  return ptp(axis=axis, out=out, **kwargs)\n"
     ]
    }
   ],
   "source": [
    "import statsmodels.api as sm\n",
    "Y=dataframe[\"Ltotcost\"]\n",
    "X=dataframe[[\"One\",\"Loutput\", \"Lplabor\", \"Lpfuel\", \"Lpkap\"]]\n",
    "X2 = sm.add_constant(X)\n",
    "est = sm.OLS(Y,X2)\n",
    "est2 = est.fit()\n",
    "print(est2.summary())"
   ]
  },
  {
   "cell_type": "code",
   "execution_count": null,
   "metadata": {},
   "outputs": [],
   "source": []
  }
 ],
 "metadata": {
  "kernelspec": {
   "display_name": "Python 3",
   "language": "python",
   "name": "python3"
  },
  "language_info": {
   "codemirror_mode": {
    "name": "ipython",
    "version": 3
   },
   "file_extension": ".py",
   "mimetype": "text/x-python",
   "name": "python",
   "nbconvert_exporter": "python",
   "pygments_lexer": "ipython3",
   "version": "3.7.5"
  }
 },
 "nbformat": 4,
 "nbformat_minor": 2
}
